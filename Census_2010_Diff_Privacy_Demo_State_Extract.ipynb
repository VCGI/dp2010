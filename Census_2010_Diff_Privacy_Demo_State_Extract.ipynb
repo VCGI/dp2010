{
  "nbformat": 4,
  "nbformat_minor": 0,
  "metadata": {
    "kernelspec": {
      "name": "python3",
      "display_name": "Python 3"
    },
    "language_info": {
      "codemirror_mode": {
        "name": "ipython",
        "version": 3
      },
      "file_extension": ".py",
      "mimetype": "text/x-python",
      "name": "python",
      "nbconvert_exporter": "python",
      "pygments_lexer": "ipython3",
      "version": "3.7.3"
    },
    "colab": {
      "name": "Census 2010 Diff Privacy Demo State Extract.ipynb",
      "provenance": [],
      "toc_visible": true,
      "include_colab_link": true
    },
    "accelerator": "GPU"
  },
  "cells": [
    {
      "cell_type": "markdown",
      "metadata": {
        "id": "view-in-github",
        "colab_type": "text"
      },
      "source": [
        "<a href=\"https://colab.research.google.com/github/VCGI/dp2010/blob/master/Census_2010_Diff_Privacy_Demo_State_Extract.ipynb\" target=\"_parent\"><img src=\"https://colab.research.google.com/assets/colab-badge.svg\" alt=\"Open In Colab\"/></a>"
      ]
    },
    {
      "cell_type": "markdown",
      "metadata": {
        "id": "s4zzhbCK8UiX",
        "colab_type": "text"
      },
      "source": [
        "# Differential Privacy 2010 \n",
        "\n",
        "Modified version of notebook copied from: https://github.com/CT-Data-Collaborative/dp2010\n",
        "\n",
        "Inspired by https://shiny.demog.berkeley.edu/eddieh/DP2010DemoData_CA/ (also on GitHub: https://github.com/edyhsgr/DP2010DemoDataReview)\n",
        "\n",
        "Data Source: https://www.nhgis.org/differentially-private-2010-census-data "
      ]
    },
    {
      "cell_type": "code",
      "metadata": {
        "id": "FA_l-UF_8Uig",
        "colab_type": "code",
        "colab": {}
      },
      "source": [
        "import pandas as pd"
      ],
      "execution_count": 0,
      "outputs": []
    },
    {
      "cell_type": "markdown",
      "metadata": {
        "id": "Wy0JldVm8Ui6",
        "colab_type": "text"
      },
      "source": [
        "### Read and filter DP1 table (people)\n",
        "Enter value in place of ### for CSV that corresponds to geography you would like to filter (eg... /wide_dp1_050.csv for county)\n",
        "*   050 County\n",
        "*   060 County Subdivision (towns)\n",
        "*   610 State Legislative District (Upper)\n",
        "*   620 State Legislative District (Lower)\n",
        "*   970 School District - Unified \n",
        "\n",
        "Enter two digit [State Code](https://www.census.gov/govs/www/gidstate.html) in 'G##' for State you would like to extract from data. (eg. Vermont is 50, so set as >'G50' & <'G51'.)\n",
        "\n"
      ]
    },
    {
      "cell_type": "code",
      "metadata": {
        "id": "1s_XziC-8Ui9",
        "colab_type": "code",
        "colab": {}
      },
      "source": [
        "dp1 = pd.read_csv('https://vcgi.nyc3.cdn.digitaloceanspaces.com/census2010dp/wide_dp1_###.csv', encoding='ISO-8859-1')\n",
        "dp1 = dp1[(dp1.gisjoin > 'G50') & (dp1.gisjoin < 'G51')]\n"
      ],
      "execution_count": 0,
      "outputs": []
    },
    {
      "cell_type": "markdown",
      "metadata": {
        "id": "c_koIwbJ8UjK",
        "colab_type": "text"
      },
      "source": [
        "### Read and filter DP14 table (housing units)\n",
        "Enter value in place of ### for CSV that corresponds to geography you would like to filter & enter state code (see above instructions for DP1 table)"
      ]
    },
    {
      "cell_type": "code",
      "metadata": {
        "id": "dGhxC_Qt8UjP",
        "colab_type": "code",
        "colab": {}
      },
      "source": [
        "dp14 = pd.read_csv('https://vcgi.nyc3.cdn.digitaloceanspaces.com/census2010dp/wide_dp14_###.csv', encoding='ISO-8859-1')\n",
        "dp14 = dp14[(dp14.gisjoin > 'G50') & (dp14.gisjoin < 'G51')]\n"
      ],
      "execution_count": 0,
      "outputs": []
    },
    {
      "cell_type": "markdown",
      "metadata": {
        "id": "4-cNmyyC8Uje",
        "colab_type": "text"
      },
      "source": [
        "### Join tables and save"
      ]
    },
    {
      "cell_type": "code",
      "metadata": {
        "id": "y-6i2rPG8Ujh",
        "colab_type": "code",
        "colab": {}
      },
      "source": [
        "dp1.drop(columns=['gisjoin', 'name_sf']).merge(\n",
        "    dp14,\n",
        "    left_on='name_dp',\n",
        "    right_on='name_dp',\n",
        "    suffixes=(False, False)\n",
        ").sort_values(['name_dp']).to_csv('data.csv', index=False)"
      ],
      "execution_count": 0,
      "outputs": []
    }
  ]
}